{
  "nbformat": 4,
  "nbformat_minor": 0,
  "metadata": {
    "colab": {
      "name": "DataScience_Project_2.ipynb",
      "provenance": [],
      "collapsed_sections": [],
      "mount_file_id": "1FU3IS-P4gsSSQqRpJtTjooutO7rT-j6N",
      "authorship_tag": "ABX9TyM+3seanGm+s8kBE2b9njZP",
      "include_colab_link": true
    },
    "kernelspec": {
      "name": "python3",
      "display_name": "Python 3"
    },
    "language_info": {
      "name": "python"
    }
  },
  "cells": [
    {
      "cell_type": "markdown",
      "metadata": {
        "id": "view-in-github",
        "colab_type": "text"
      },
      "source": [
        "<a href=\"https://colab.research.google.com/github/OZebra/CaptainMarvel/blob/master/DataScience_Project_2.ipynb\" target=\"_parent\"><img src=\"https://colab.research.google.com/assets/colab-badge.svg\" alt=\"Open In Colab\"/></a>"
      ]
    },
    {
      "cell_type": "markdown",
      "metadata": {
        "id": "uC5m8MP4otrs"
      },
      "source": [
        "#Projeto 2 de DataScience \n",
        "\n",
        "---\n",
        "\n",
        "##Objetivos\n",
        "\n",
        "\n",
        "1.   Escolher uma coluna para realizar predição por regressão ou classificação.\n",
        "2.   Separar os dados em treinamento, validação e teste.\n",
        "3.   Selecionar 4 algorítmos de acordo com a tarefa escolhida no passo 1\n",
        "4.   Adicionar MLFlow no treinamento dos modelos para rastreamento.\n",
        "5.   Executar uma ferramenta de seleção de hiper-parâmetros sobre o conjunto de validação.\n",
        "     1. Selecionar poucos Hiper-parâmetros por algorítmo (max: 3).\n",
        "     2. Selecionar o conjunto algorítmo + hiperparâmetros com o melhor resultado\n",
        "     3. Executar o melhor modelo para cada algorítmo e selecionar o melhor.\n",
        "\n",
        "6. Realizar o diagnóstico geral do modelo escolhido e melhorá-lo a partir do diagnóstico\n"
      ]
    },
    {
      "cell_type": "markdown",
      "metadata": {
        "id": "SQq3OyY-pu1y"
      },
      "source": [
        "##Parte 1\n",
        "\n",
        "---\n",
        "\n",
        "O dataset escolhido, será [este](https://www.kaggle.com/adityakadiwal/water-potability/version/3).\n",
        "\n",
        "O dataset trata da predição de derrame baseado em exames e fatores pessoais da vida dos paciêntes.\n",
        "\n",
        "Vamos começar importando as bibliotecas necessárias\n",
        "\n"
      ]
    },
    {
      "cell_type": "code",
      "metadata": {
        "id": "bc4bNYs5y80m"
      },
      "source": [
        "import pandas as pd\n",
        "import numpy as np\n",
        "import seaborn as sns\n",
        "import sklearn"
      ],
      "execution_count": 1,
      "outputs": []
    },
    {
      "cell_type": "code",
      "metadata": {
        "colab": {
          "base_uri": "https://localhost:8080/"
        },
        "id": "d0WxgJoSZXZQ",
        "outputId": "c55b1cf6-2f06-4da2-ff48-08e8fb5fdbc4"
      },
      "source": [
        "!pip install mlflow --quiet\n",
        "!pip install pyngrok --quiet\n",
        "!pip install optuna\n",
        "\n",
        "import mlflow\n",
        "import optuna"
      ],
      "execution_count": 2,
      "outputs": [
        {
          "output_type": "stream",
          "text": [
            "\u001b[K     |████████████████████████████████| 14.4 MB 61 kB/s \n",
            "\u001b[K     |████████████████████████████████| 56 kB 4.1 MB/s \n",
            "\u001b[K     |████████████████████████████████| 170 kB 52.8 MB/s \n",
            "\u001b[K     |████████████████████████████████| 79 kB 6.8 MB/s \n",
            "\u001b[K     |████████████████████████████████| 1.1 MB 56.9 MB/s \n",
            "\u001b[K     |████████████████████████████████| 636 kB 55.6 MB/s \n",
            "\u001b[K     |████████████████████████████████| 146 kB 57.7 MB/s \n",
            "\u001b[K     |████████████████████████████████| 75 kB 3.3 MB/s \n",
            "\u001b[K     |████████████████████████████████| 52 kB 836 kB/s \n",
            "\u001b[K     |████████████████████████████████| 63 kB 1.5 MB/s \n",
            "\u001b[?25h  Building wheel for alembic (setup.py) ... \u001b[?25l\u001b[?25hdone\n",
            "  Building wheel for databricks-cli (setup.py) ... \u001b[?25l\u001b[?25hdone\n",
            "  Building wheel for prometheus-flask-exporter (setup.py) ... \u001b[?25l\u001b[?25hdone\n",
            "\u001b[K     |████████████████████████████████| 746 kB 5.0 MB/s \n",
            "\u001b[?25h  Building wheel for pyngrok (setup.py) ... \u001b[?25l\u001b[?25hdone\n",
            "Collecting optuna\n",
            "  Downloading optuna-2.9.1-py3-none-any.whl (302 kB)\n",
            "\u001b[K     |████████████████████████████████| 302 kB 5.1 MB/s \n",
            "\u001b[?25hCollecting cmaes>=0.8.2\n",
            "  Downloading cmaes-0.8.2-py3-none-any.whl (15 kB)\n",
            "Requirement already satisfied: numpy in /usr/local/lib/python3.7/dist-packages (from optuna) (1.19.5)\n",
            "Requirement already satisfied: tqdm in /usr/local/lib/python3.7/dist-packages (from optuna) (4.41.1)\n",
            "Requirement already satisfied: packaging>=20.0 in /usr/local/lib/python3.7/dist-packages (from optuna) (21.0)\n",
            "Requirement already satisfied: scipy!=1.4.0 in /usr/local/lib/python3.7/dist-packages (from optuna) (1.4.1)\n",
            "Requirement already satisfied: alembic in /usr/local/lib/python3.7/dist-packages (from optuna) (1.4.1)\n",
            "Requirement already satisfied: sqlalchemy>=1.1.0 in /usr/local/lib/python3.7/dist-packages (from optuna) (1.4.20)\n",
            "Requirement already satisfied: PyYAML in /usr/local/lib/python3.7/dist-packages (from optuna) (5.4.1)\n",
            "Collecting colorlog\n",
            "  Downloading colorlog-5.0.1-py2.py3-none-any.whl (10 kB)\n",
            "Collecting cliff\n",
            "  Downloading cliff-3.8.0-py3-none-any.whl (80 kB)\n",
            "\u001b[K     |████████████████████████████████| 80 kB 6.0 MB/s \n",
            "\u001b[?25hRequirement already satisfied: pyparsing>=2.0.2 in /usr/local/lib/python3.7/dist-packages (from packaging>=20.0->optuna) (2.4.7)\n",
            "Requirement already satisfied: importlib-metadata in /usr/local/lib/python3.7/dist-packages (from sqlalchemy>=1.1.0->optuna) (4.6.1)\n",
            "Requirement already satisfied: greenlet!=0.4.17 in /usr/local/lib/python3.7/dist-packages (from sqlalchemy>=1.1.0->optuna) (1.1.0)\n",
            "Requirement already satisfied: python-dateutil in /usr/local/lib/python3.7/dist-packages (from alembic->optuna) (2.8.1)\n",
            "Requirement already satisfied: python-editor>=0.3 in /usr/local/lib/python3.7/dist-packages (from alembic->optuna) (1.0.4)\n",
            "Requirement already satisfied: Mako in /usr/local/lib/python3.7/dist-packages (from alembic->optuna) (1.1.4)\n",
            "Requirement already satisfied: PrettyTable>=0.7.2 in /usr/local/lib/python3.7/dist-packages (from cliff->optuna) (2.1.0)\n",
            "Collecting cmd2>=1.0.0\n",
            "  Downloading cmd2-2.1.2-py3-none-any.whl (141 kB)\n",
            "\u001b[K     |████████████████████████████████| 141 kB 10.9 MB/s \n",
            "\u001b[?25hCollecting pbr!=2.1.0,>=2.0.0\n",
            "  Downloading pbr-5.6.0-py2.py3-none-any.whl (111 kB)\n",
            "\u001b[K     |████████████████████████████████| 111 kB 9.2 MB/s \n",
            "\u001b[?25hCollecting stevedore>=2.0.1\n",
            "  Downloading stevedore-3.3.0-py3-none-any.whl (49 kB)\n",
            "\u001b[K     |████████████████████████████████| 49 kB 4.5 MB/s \n",
            "\u001b[?25hRequirement already satisfied: wcwidth>=0.1.7 in /usr/local/lib/python3.7/dist-packages (from cmd2>=1.0.0->cliff->optuna) (0.2.5)\n",
            "Collecting colorama>=0.3.7\n",
            "  Downloading colorama-0.4.4-py2.py3-none-any.whl (16 kB)\n",
            "Requirement already satisfied: typing-extensions in /usr/local/lib/python3.7/dist-packages (from cmd2>=1.0.0->cliff->optuna) (3.7.4.3)\n",
            "Collecting pyperclip>=1.6\n",
            "  Downloading pyperclip-1.8.2.tar.gz (20 kB)\n",
            "Requirement already satisfied: attrs>=16.3.0 in /usr/local/lib/python3.7/dist-packages (from cmd2>=1.0.0->cliff->optuna) (21.2.0)\n",
            "Requirement already satisfied: zipp>=0.5 in /usr/local/lib/python3.7/dist-packages (from importlib-metadata->sqlalchemy>=1.1.0->optuna) (3.5.0)\n",
            "Requirement already satisfied: MarkupSafe>=0.9.2 in /usr/local/lib/python3.7/dist-packages (from Mako->alembic->optuna) (2.0.1)\n",
            "Requirement already satisfied: six>=1.5 in /usr/local/lib/python3.7/dist-packages (from python-dateutil->alembic->optuna) (1.15.0)\n",
            "Building wheels for collected packages: pyperclip\n",
            "  Building wheel for pyperclip (setup.py) ... \u001b[?25l\u001b[?25hdone\n",
            "  Created wheel for pyperclip: filename=pyperclip-1.8.2-py3-none-any.whl size=11137 sha256=d9a87f07cf0145bf1acf887b0f9fff692132fa37f308409d0d9cdb5ff1f833da\n",
            "  Stored in directory: /root/.cache/pip/wheels/9f/18/84/8f69f8b08169c7bae2dde6bd7daf0c19fca8c8e500ee620a28\n",
            "Successfully built pyperclip\n",
            "Installing collected packages: pyperclip, pbr, colorama, stevedore, cmd2, colorlog, cmaes, cliff, optuna\n",
            "Successfully installed cliff-3.8.0 cmaes-0.8.2 cmd2-2.1.2 colorama-0.4.4 colorlog-5.0.1 optuna-2.9.1 pbr-5.6.0 pyperclip-1.8.2 stevedore-3.3.0\n"
          ],
          "name": "stdout"
        }
      ]
    },
    {
      "cell_type": "markdown",
      "metadata": {
        "id": "afdsqLmjSi4Z"
      },
      "source": [
        "Configurando MLFlow"
      ]
    },
    {
      "cell_type": "code",
      "metadata": {
        "colab": {
          "base_uri": "https://localhost:8080/"
        },
        "id": "8YXPuH9qPHIK",
        "outputId": "f63717d2-62cc-4b19-8040-05e7363a6b54"
      },
      "source": [
        "\n",
        "with mlflow.start_run():\n",
        "  mlflow.log_metric(\"m1\", 2.0)\n",
        "  mlflow.log_param(\"p1\", \"mlflow-colab\")\n",
        "\n",
        "get_ipython().system_raw(\"mlflow ui --port 5000 &\")\n",
        "\n",
        "from pyngrok import ngrok\n",
        "\n",
        "ngrok.kill()\n",
        "\n",
        "NGROK_AUTH_TOKEN = \"1wbnBFUrJ5h6yC62xQKhBAg2d6j_7VXzU961dGaomVXmeKr1y\"\n",
        "ngrok.set_auth_token(NGROK_AUTH_TOKEN)\n",
        "\n",
        "ngrok_tunnel = ngrok.connect(addr=\"5000\", proto=\"http\", bind_tls=True)\n",
        "print(\"MLflow Tracking UI:\", ngrok_tunnel.public_url)"
      ],
      "execution_count": 3,
      "outputs": [
        {
          "output_type": "stream",
          "text": [
            "MLflow Tracking UI: https://863b1642094c.ngrok.io\n"
          ],
          "name": "stdout"
        }
      ]
    },
    {
      "cell_type": "markdown",
      "metadata": {
        "id": "4ThYdEbny9xn"
      },
      "source": [
        "# 🧭 Exploração\n",
        "\n",
        "Agora, podemos carregar o dataset e realizar uma análise exploratória dos nossos dados."
      ]
    },
    {
      "cell_type": "code",
      "metadata": {
        "id": "Qo6AQfzWh_AB"
      },
      "source": [
        "df_stroke = pd.read_csv(\"/content/water_potability.csv\")"
      ],
      "execution_count": 5,
      "outputs": []
    },
    {
      "cell_type": "code",
      "metadata": {
        "colab": {
          "base_uri": "https://localhost:8080/",
          "height": 204
        },
        "id": "Inxx3mTT2vPT",
        "outputId": "b658fd46-f213-476d-a37e-c92487c94d74"
      },
      "source": [
        "df_stroke.head()"
      ],
      "execution_count": 6,
      "outputs": [
        {
          "output_type": "execute_result",
          "data": {
            "text/html": [
              "<div>\n",
              "<style scoped>\n",
              "    .dataframe tbody tr th:only-of-type {\n",
              "        vertical-align: middle;\n",
              "    }\n",
              "\n",
              "    .dataframe tbody tr th {\n",
              "        vertical-align: top;\n",
              "    }\n",
              "\n",
              "    .dataframe thead th {\n",
              "        text-align: right;\n",
              "    }\n",
              "</style>\n",
              "<table border=\"1\" class=\"dataframe\">\n",
              "  <thead>\n",
              "    <tr style=\"text-align: right;\">\n",
              "      <th></th>\n",
              "      <th>ph</th>\n",
              "      <th>Hardness</th>\n",
              "      <th>Solids</th>\n",
              "      <th>Chloramines</th>\n",
              "      <th>Sulfate</th>\n",
              "      <th>Conductivity</th>\n",
              "      <th>Organic_carbon</th>\n",
              "      <th>Trihalomethanes</th>\n",
              "      <th>Turbidity</th>\n",
              "      <th>Potability</th>\n",
              "    </tr>\n",
              "  </thead>\n",
              "  <tbody>\n",
              "    <tr>\n",
              "      <th>0</th>\n",
              "      <td>NaN</td>\n",
              "      <td>204.890455</td>\n",
              "      <td>20791.318981</td>\n",
              "      <td>7.300212</td>\n",
              "      <td>368.516441</td>\n",
              "      <td>564.308654</td>\n",
              "      <td>10.379783</td>\n",
              "      <td>86.990970</td>\n",
              "      <td>2.963135</td>\n",
              "      <td>0</td>\n",
              "    </tr>\n",
              "    <tr>\n",
              "      <th>1</th>\n",
              "      <td>3.716080</td>\n",
              "      <td>129.422921</td>\n",
              "      <td>18630.057858</td>\n",
              "      <td>6.635246</td>\n",
              "      <td>NaN</td>\n",
              "      <td>592.885359</td>\n",
              "      <td>15.180013</td>\n",
              "      <td>56.329076</td>\n",
              "      <td>4.500656</td>\n",
              "      <td>0</td>\n",
              "    </tr>\n",
              "    <tr>\n",
              "      <th>2</th>\n",
              "      <td>8.099124</td>\n",
              "      <td>224.236259</td>\n",
              "      <td>19909.541732</td>\n",
              "      <td>9.275884</td>\n",
              "      <td>NaN</td>\n",
              "      <td>418.606213</td>\n",
              "      <td>16.868637</td>\n",
              "      <td>66.420093</td>\n",
              "      <td>3.055934</td>\n",
              "      <td>0</td>\n",
              "    </tr>\n",
              "    <tr>\n",
              "      <th>3</th>\n",
              "      <td>8.316766</td>\n",
              "      <td>214.373394</td>\n",
              "      <td>22018.417441</td>\n",
              "      <td>8.059332</td>\n",
              "      <td>356.886136</td>\n",
              "      <td>363.266516</td>\n",
              "      <td>18.436524</td>\n",
              "      <td>100.341674</td>\n",
              "      <td>4.628771</td>\n",
              "      <td>0</td>\n",
              "    </tr>\n",
              "    <tr>\n",
              "      <th>4</th>\n",
              "      <td>9.092223</td>\n",
              "      <td>181.101509</td>\n",
              "      <td>17978.986339</td>\n",
              "      <td>6.546600</td>\n",
              "      <td>310.135738</td>\n",
              "      <td>398.410813</td>\n",
              "      <td>11.558279</td>\n",
              "      <td>31.997993</td>\n",
              "      <td>4.075075</td>\n",
              "      <td>0</td>\n",
              "    </tr>\n",
              "  </tbody>\n",
              "</table>\n",
              "</div>"
            ],
            "text/plain": [
              "         ph    Hardness        Solids  ...  Trihalomethanes  Turbidity  Potability\n",
              "0       NaN  204.890455  20791.318981  ...        86.990970   2.963135           0\n",
              "1  3.716080  129.422921  18630.057858  ...        56.329076   4.500656           0\n",
              "2  8.099124  224.236259  19909.541732  ...        66.420093   3.055934           0\n",
              "3  8.316766  214.373394  22018.417441  ...       100.341674   4.628771           0\n",
              "4  9.092223  181.101509  17978.986339  ...        31.997993   4.075075           0\n",
              "\n",
              "[5 rows x 10 columns]"
            ]
          },
          "metadata": {
            "tags": []
          },
          "execution_count": 6
        }
      ]
    },
    {
      "cell_type": "code",
      "metadata": {
        "colab": {
          "base_uri": "https://localhost:8080/"
        },
        "id": "-KxHPzxT2xWx",
        "outputId": "d087a926-5fbf-425f-b4c9-829e43121567"
      },
      "source": [
        "df_stroke.columns"
      ],
      "execution_count": 7,
      "outputs": [
        {
          "output_type": "execute_result",
          "data": {
            "text/plain": [
              "Index(['ph', 'Hardness', 'Solids', 'Chloramines', 'Sulfate', 'Conductivity',\n",
              "       'Organic_carbon', 'Trihalomethanes', 'Turbidity', 'Potability'],\n",
              "      dtype='object')"
            ]
          },
          "metadata": {
            "tags": []
          },
          "execution_count": 7
        }
      ]
    },
    {
      "cell_type": "code",
      "metadata": {
        "colab": {
          "base_uri": "https://localhost:8080/",
          "height": 297
        },
        "id": "gsXwz7Yn2zBN",
        "outputId": "059ffd68-a8f9-46bb-eb94-81d7814b8d5b"
      },
      "source": [
        "df_stroke.describe()"
      ],
      "execution_count": 8,
      "outputs": [
        {
          "output_type": "execute_result",
          "data": {
            "text/html": [
              "<div>\n",
              "<style scoped>\n",
              "    .dataframe tbody tr th:only-of-type {\n",
              "        vertical-align: middle;\n",
              "    }\n",
              "\n",
              "    .dataframe tbody tr th {\n",
              "        vertical-align: top;\n",
              "    }\n",
              "\n",
              "    .dataframe thead th {\n",
              "        text-align: right;\n",
              "    }\n",
              "</style>\n",
              "<table border=\"1\" class=\"dataframe\">\n",
              "  <thead>\n",
              "    <tr style=\"text-align: right;\">\n",
              "      <th></th>\n",
              "      <th>ph</th>\n",
              "      <th>Hardness</th>\n",
              "      <th>Solids</th>\n",
              "      <th>Chloramines</th>\n",
              "      <th>Sulfate</th>\n",
              "      <th>Conductivity</th>\n",
              "      <th>Organic_carbon</th>\n",
              "      <th>Trihalomethanes</th>\n",
              "      <th>Turbidity</th>\n",
              "      <th>Potability</th>\n",
              "    </tr>\n",
              "  </thead>\n",
              "  <tbody>\n",
              "    <tr>\n",
              "      <th>count</th>\n",
              "      <td>2785.000000</td>\n",
              "      <td>3276.000000</td>\n",
              "      <td>3276.000000</td>\n",
              "      <td>3276.000000</td>\n",
              "      <td>2495.000000</td>\n",
              "      <td>3276.000000</td>\n",
              "      <td>3276.000000</td>\n",
              "      <td>3114.000000</td>\n",
              "      <td>3276.000000</td>\n",
              "      <td>3276.000000</td>\n",
              "    </tr>\n",
              "    <tr>\n",
              "      <th>mean</th>\n",
              "      <td>7.080795</td>\n",
              "      <td>196.369496</td>\n",
              "      <td>22014.092526</td>\n",
              "      <td>7.122277</td>\n",
              "      <td>333.775777</td>\n",
              "      <td>426.205111</td>\n",
              "      <td>14.284970</td>\n",
              "      <td>66.396293</td>\n",
              "      <td>3.966786</td>\n",
              "      <td>0.390110</td>\n",
              "    </tr>\n",
              "    <tr>\n",
              "      <th>std</th>\n",
              "      <td>1.594320</td>\n",
              "      <td>32.879761</td>\n",
              "      <td>8768.570828</td>\n",
              "      <td>1.583085</td>\n",
              "      <td>41.416840</td>\n",
              "      <td>80.824064</td>\n",
              "      <td>3.308162</td>\n",
              "      <td>16.175008</td>\n",
              "      <td>0.780382</td>\n",
              "      <td>0.487849</td>\n",
              "    </tr>\n",
              "    <tr>\n",
              "      <th>min</th>\n",
              "      <td>0.000000</td>\n",
              "      <td>47.432000</td>\n",
              "      <td>320.942611</td>\n",
              "      <td>0.352000</td>\n",
              "      <td>129.000000</td>\n",
              "      <td>181.483754</td>\n",
              "      <td>2.200000</td>\n",
              "      <td>0.738000</td>\n",
              "      <td>1.450000</td>\n",
              "      <td>0.000000</td>\n",
              "    </tr>\n",
              "    <tr>\n",
              "      <th>25%</th>\n",
              "      <td>6.093092</td>\n",
              "      <td>176.850538</td>\n",
              "      <td>15666.690297</td>\n",
              "      <td>6.127421</td>\n",
              "      <td>307.699498</td>\n",
              "      <td>365.734414</td>\n",
              "      <td>12.065801</td>\n",
              "      <td>55.844536</td>\n",
              "      <td>3.439711</td>\n",
              "      <td>0.000000</td>\n",
              "    </tr>\n",
              "    <tr>\n",
              "      <th>50%</th>\n",
              "      <td>7.036752</td>\n",
              "      <td>196.967627</td>\n",
              "      <td>20927.833607</td>\n",
              "      <td>7.130299</td>\n",
              "      <td>333.073546</td>\n",
              "      <td>421.884968</td>\n",
              "      <td>14.218338</td>\n",
              "      <td>66.622485</td>\n",
              "      <td>3.955028</td>\n",
              "      <td>0.000000</td>\n",
              "    </tr>\n",
              "    <tr>\n",
              "      <th>75%</th>\n",
              "      <td>8.062066</td>\n",
              "      <td>216.667456</td>\n",
              "      <td>27332.762127</td>\n",
              "      <td>8.114887</td>\n",
              "      <td>359.950170</td>\n",
              "      <td>481.792304</td>\n",
              "      <td>16.557652</td>\n",
              "      <td>77.337473</td>\n",
              "      <td>4.500320</td>\n",
              "      <td>1.000000</td>\n",
              "    </tr>\n",
              "    <tr>\n",
              "      <th>max</th>\n",
              "      <td>14.000000</td>\n",
              "      <td>323.124000</td>\n",
              "      <td>61227.196008</td>\n",
              "      <td>13.127000</td>\n",
              "      <td>481.030642</td>\n",
              "      <td>753.342620</td>\n",
              "      <td>28.300000</td>\n",
              "      <td>124.000000</td>\n",
              "      <td>6.739000</td>\n",
              "      <td>1.000000</td>\n",
              "    </tr>\n",
              "  </tbody>\n",
              "</table>\n",
              "</div>"
            ],
            "text/plain": [
              "                ph     Hardness  ...    Turbidity   Potability\n",
              "count  2785.000000  3276.000000  ...  3276.000000  3276.000000\n",
              "mean      7.080795   196.369496  ...     3.966786     0.390110\n",
              "std       1.594320    32.879761  ...     0.780382     0.487849\n",
              "min       0.000000    47.432000  ...     1.450000     0.000000\n",
              "25%       6.093092   176.850538  ...     3.439711     0.000000\n",
              "50%       7.036752   196.967627  ...     3.955028     0.000000\n",
              "75%       8.062066   216.667456  ...     4.500320     1.000000\n",
              "max      14.000000   323.124000  ...     6.739000     1.000000\n",
              "\n",
              "[8 rows x 10 columns]"
            ]
          },
          "metadata": {
            "tags": []
          },
          "execution_count": 8
        }
      ]
    },
    {
      "cell_type": "markdown",
      "metadata": {
        "id": "o52nRBWE3I1c"
      },
      "source": [
        "Como podemos perceber, algumas propriedades como 'hypertension', e 'stroke' provavelmente variam bináriamente indicando presença ou não da doença/condição"
      ]
    },
    {
      "cell_type": "code",
      "metadata": {
        "colab": {
          "base_uri": "https://localhost:8080/",
          "height": 568
        },
        "id": "SEEwpaxu3Hmo",
        "outputId": "d6a5793a-d6c8-4b94-cf5f-ea16f8ead6c2"
      },
      "source": [
        "df_stroke.info()\n",
        "df_stroke.isnull().sum()\n",
        "sns.countplot(x='Potability', data=df_stroke);"
      ],
      "execution_count": 9,
      "outputs": [
        {
          "output_type": "stream",
          "text": [
            "<class 'pandas.core.frame.DataFrame'>\n",
            "RangeIndex: 3276 entries, 0 to 3275\n",
            "Data columns (total 10 columns):\n",
            " #   Column           Non-Null Count  Dtype  \n",
            "---  ------           --------------  -----  \n",
            " 0   ph               2785 non-null   float64\n",
            " 1   Hardness         3276 non-null   float64\n",
            " 2   Solids           3276 non-null   float64\n",
            " 3   Chloramines      3276 non-null   float64\n",
            " 4   Sulfate          2495 non-null   float64\n",
            " 5   Conductivity     3276 non-null   float64\n",
            " 6   Organic_carbon   3276 non-null   float64\n",
            " 7   Trihalomethanes  3114 non-null   float64\n",
            " 8   Turbidity        3276 non-null   float64\n",
            " 9   Potability       3276 non-null   int64  \n",
            "dtypes: float64(9), int64(1)\n",
            "memory usage: 256.1 KB\n"
          ],
          "name": "stdout"
        },
        {
          "output_type": "display_data",
          "data": {
            "image/png": "[encoded data removed]",
            "text/plain": [
              "<Figure size 432x288 with 1 Axes>"
            ]
          },
          "metadata": {
            "tags": [],
            "needs_background": "light"
          }
        }
      ]
    },
    {
      "cell_type": "markdown",
      "metadata": {
        "id": "cKO5-sr8WWlu"
      },
      "source": [
        "Observando a descrição do dataset no kaggle, podemos perceber que existem três colunas que possuem algum valor inválido, sendo elas: \"Trihalomethanes\", \"Sulfate\" e \"pH\". Vamos filtrar esses valores inválidos."
      ]
    },
    {
      "cell_type": "code",
      "metadata": {
        "id": "cpki-f1fW3zO"
      },
      "source": [
        "df_stroke = df_stroke.drop(df_stroke[df_stroke.Trihalomethanes.isna()].index)\n",
        "df_stroke = df_stroke.drop(df_stroke[df_stroke.ph.isna()].index)\n",
        "df_stroke = df_stroke.drop(df_stroke[df_stroke.Sulfate.isna()].index)"
      ],
      "execution_count": 10,
      "outputs": []
    },
    {
      "cell_type": "markdown",
      "metadata": {
        "id": "vwEEPHATXQ9k"
      },
      "source": [
        "E em seguida, podemos verificar novamente o dataframe."
      ]
    },
    {
      "cell_type": "code",
      "metadata": {
        "colab": {
          "base_uri": "https://localhost:8080/"
        },
        "id": "iDCz2qG3Xnc6",
        "outputId": "092c5352-55b0-4d06-8dcf-2c3484cf9fb6"
      },
      "source": [
        "df_stroke.count()"
      ],
      "execution_count": 11,
      "outputs": [
        {
          "output_type": "execute_result",
          "data": {
            "text/plain": [
              "ph                 2011\n",
              "Hardness           2011\n",
              "Solids             2011\n",
              "Chloramines        2011\n",
              "Sulfate            2011\n",
              "Conductivity       2011\n",
              "Organic_carbon     2011\n",
              "Trihalomethanes    2011\n",
              "Turbidity          2011\n",
              "Potability         2011\n",
              "dtype: int64"
            ]
          },
          "metadata": {
            "tags": []
          },
          "execution_count": 11
        }
      ]
    },
    {
      "cell_type": "markdown",
      "metadata": {
        "id": "5NsaKkjIXx38"
      },
      "source": [
        "A partir daqui, dividiremos o dataframe em treino, teste e validação e começaremos a iterar em cima dos algorítmos com o auxílio do MLFlow."
      ]
    },
    {
      "cell_type": "code",
      "metadata": {
        "id": "Z_CfaiGj4Se8"
      },
      "source": [
        "from sklearn.model_selection import train_test_split\n",
        "\n",
        "x = df_stroke.drop(columns = ['Potability']).copy()\n",
        "y = df_stroke['Potability']\n",
        "\n",
        "\n",
        "x_train, x_rem, y_train, y_rem = train_test_split(x,y, train_size=0.8)\n",
        "x_val, x_test, y_val, y_test = train_test_split(x_rem,y_rem, test_size=0.5)"
      ],
      "execution_count": 12,
      "outputs": []
    },
    {
      "cell_type": "markdown",
      "metadata": {
        "id": "VGhG8jw5cLyz"
      },
      "source": [
        "Também estaremos utilizando o optuna para realizar a otimização de hiper-parâmetros"
      ]
    },
    {
      "cell_type": "code",
      "metadata": {
        "colab": {
          "base_uri": "https://localhost:8080/"
        },
        "id": "0CzJs_mXcTn_",
        "outputId": "eb2a33af-5ad3-4096-e867-54d81dac3df2"
      },
      "source": [
        "from sklearn.neighbors import KNeighborsClassifier\n",
        "from sklearn.metrics import classification_report\n",
        "\n",
        "def KNNOptimization(trial):\n",
        "    # hyperparameter setting\n",
        "    neighbors = trial.suggest_int('n_neighbours', 20, 200)\n",
        "    \n",
        "    # model training and evaluation\n",
        "    with mlflow.start_run():\n",
        "      knn = KNeighborsClassifier(n_neighbors=neighbors)\n",
        "      knn.fit(x_train, y_train)\n",
        "      y_pred = knn.predict(x_test)\n",
        "\n",
        "      cr = classification_report(y_test, y_pred, output_dict=True)\n",
        "\n",
        "      precision = cr['1']['precision']\n",
        "      f1score = cr['1']['precision']\n",
        "      error = sklearn.metrics.mean_squared_error(y_test, y_pred)\n",
        "\n",
        "      mlflow.log_param(\"n_neighbors\", neighbors);\n",
        "      mlflow.log_metric(\"precision\", precision);\n",
        "      mlflow.log_metric(\"f1-score\", f1score);\n",
        "      mlflow.log_metric(\"error\", error);\n",
        "      return error\n",
        "\n",
        "study = optuna.create_study(direction='minimize')\n",
        "study.optimize(KNNOptimization, n_trials=20)"
      ],
      "execution_count": 16,
      "outputs": [
        {
          "output_type": "stream",
          "text": [
            "\u001b[32m[I 2021-08-12 04:38:50,808]\u001b[0m A new study created in memory with name: no-name-30ffb734-6f8a-402b-8b17-56563d015562\u001b[0m\n",
            "\u001b[32m[I 2021-08-12 04:38:50,847]\u001b[0m Trial 0 finished with value: 0.3613861386138614 and parameters: {'n_neighbours': 92}. Best is trial 0 with value: 0.3613861386138614.\u001b[0m\n",
            "/usr/local/lib/python3.7/dist-packages/sklearn/metrics/_classification.py:1272: UndefinedMetricWarning:\n",
            "\n",
            "Precision and F-score are ill-defined and being set to 0.0 in labels with no predicted samples. Use `zero_division` parameter to control this behavior.\n",
            "\n",
            "\u001b[32m[I 2021-08-12 04:38:50,883]\u001b[0m Trial 1 finished with value: 0.3613861386138614 and parameters: {'n_neighbours': 90}. Best is trial 0 with value: 0.3613861386138614.\u001b[0m\n",
            "/usr/local/lib/python3.7/dist-packages/sklearn/metrics/_classification.py:1272: UndefinedMetricWarning:\n",
            "\n",
            "Precision and F-score are ill-defined and being set to 0.0 in labels with no predicted samples. Use `zero_division` parameter to control this behavior.\n",
            "\n",
            "\u001b[32m[I 2021-08-12 04:38:50,917]\u001b[0m Trial 2 finished with value: 0.3613861386138614 and parameters: {'n_neighbours': 123}. Best is trial 0 with value: 0.3613861386138614.\u001b[0m\n",
            "\u001b[32m[I 2021-08-12 04:38:50,949]\u001b[0m Trial 3 finished with value: 0.35148514851485146 and parameters: {'n_neighbours': 68}. Best is trial 3 with value: 0.35148514851485146.\u001b[0m\n",
            "/usr/local/lib/python3.7/dist-packages/sklearn/metrics/_classification.py:1272: UndefinedMetricWarning:\n",
            "\n",
            "Precision and F-score are ill-defined and being set to 0.0 in labels with no predicted samples. Use `zero_division` parameter to control this behavior.\n",
            "\n",
            "\u001b[32m[I 2021-08-12 04:38:50,983]\u001b[0m Trial 4 finished with value: 0.3613861386138614 and parameters: {'n_neighbours': 99}. Best is trial 3 with value: 0.35148514851485146.\u001b[0m\n",
            "\u001b[32m[I 2021-08-12 04:38:51,015]\u001b[0m Trial 5 finished with value: 0.33663366336633666 and parameters: {'n_neighbours': 53}. Best is trial 5 with value: 0.33663366336633666.\u001b[0m\n",
            "\u001b[32m[I 2021-08-12 04:38:51,046]\u001b[0m Trial 6 finished with value: 0.36633663366336633 and parameters: {'n_neighbours': 20}. Best is trial 5 with value: 0.33663366336633666.\u001b[0m\n",
            "/usr/local/lib/python3.7/dist-packages/sklearn/metrics/_classification.py:1272: UndefinedMetricWarning:\n",
            "\n",
            "Precision and F-score are ill-defined and being set to 0.0 in labels with no predicted samples. Use `zero_division` parameter to control this behavior.\n",
            "\n",
            "\u001b[32m[I 2021-08-12 04:38:51,086]\u001b[0m Trial 7 finished with value: 0.3613861386138614 and parameters: {'n_neighbours': 99}. Best is trial 5 with value: 0.33663366336633666.\u001b[0m\n",
            "/usr/local/lib/python3.7/dist-packages/sklearn/metrics/_classification.py:1272: UndefinedMetricWarning:\n",
            "\n",
            "Precision and F-score are ill-defined and being set to 0.0 in labels with no predicted samples. Use `zero_division` parameter to control this behavior.\n",
            "\n",
            "\u001b[32m[I 2021-08-12 04:38:51,127]\u001b[0m Trial 8 finished with value: 0.3613861386138614 and parameters: {'n_neighbours': 198}. Best is trial 5 with value: 0.33663366336633666.\u001b[0m\n",
            "/usr/local/lib/python3.7/dist-packages/sklearn/metrics/_classification.py:1272: UndefinedMetricWarning:\n",
            "\n",
            "Precision and F-score are ill-defined and being set to 0.0 in labels with no predicted samples. Use `zero_division` parameter to control this behavior.\n",
            "\n",
            "\u001b[32m[I 2021-08-12 04:38:51,162]\u001b[0m Trial 9 finished with value: 0.3613861386138614 and parameters: {'n_neighbours': 99}. Best is trial 5 with value: 0.33663366336633666.\u001b[0m\n",
            "\u001b[32m[I 2021-08-12 04:38:51,195]\u001b[0m Trial 10 finished with value: 0.3811881188118812 and parameters: {'n_neighbours': 25}. Best is trial 5 with value: 0.33663366336633666.\u001b[0m\n",
            "\u001b[32m[I 2021-08-12 04:38:51,228]\u001b[0m Trial 11 finished with value: 0.3415841584158416 and parameters: {'n_neighbours': 54}. Best is trial 5 with value: 0.33663366336633666.\u001b[0m\n",
            "\u001b[32m[I 2021-08-12 04:38:51,262]\u001b[0m Trial 12 finished with value: 0.3415841584158416 and parameters: {'n_neighbours': 54}. Best is trial 5 with value: 0.33663366336633666.\u001b[0m\n",
            "/usr/local/lib/python3.7/dist-packages/sklearn/metrics/_classification.py:1272: UndefinedMetricWarning:\n",
            "\n",
            "Precision and F-score are ill-defined and being set to 0.0 in labels with no predicted samples. Use `zero_division` parameter to control this behavior.\n",
            "\n",
            "\u001b[32m[I 2021-08-12 04:38:51,304]\u001b[0m Trial 13 finished with value: 0.3613861386138614 and parameters: {'n_neighbours': 151}. Best is trial 5 with value: 0.33663366336633666.\u001b[0m\n",
            "\u001b[32m[I 2021-08-12 04:38:51,339]\u001b[0m Trial 14 finished with value: 0.35148514851485146 and parameters: {'n_neighbours': 52}. Best is trial 5 with value: 0.33663366336633666.\u001b[0m\n",
            "\u001b[32m[I 2021-08-12 04:38:51,373]\u001b[0m Trial 15 finished with value: 0.3712871287128713 and parameters: {'n_neighbours': 46}. Best is trial 5 with value: 0.33663366336633666.\u001b[0m\n",
            "/usr/local/lib/python3.7/dist-packages/sklearn/metrics/_classification.py:1272: UndefinedMetricWarning:\n",
            "\n",
            "Precision and F-score are ill-defined and being set to 0.0 in labels with no predicted samples. Use `zero_division` parameter to control this behavior.\n",
            "\n",
            "\u001b[32m[I 2021-08-12 04:38:51,411]\u001b[0m Trial 16 finished with value: 0.3613861386138614 and parameters: {'n_neighbours': 133}. Best is trial 5 with value: 0.33663366336633666.\u001b[0m\n",
            "\u001b[32m[I 2021-08-12 04:38:51,454]\u001b[0m Trial 17 finished with value: 0.36633663366336633 and parameters: {'n_neighbours': 74}. Best is trial 5 with value: 0.33663366336633666.\u001b[0m\n",
            "/usr/local/lib/python3.7/dist-packages/sklearn/metrics/_classification.py:1272: UndefinedMetricWarning:\n",
            "\n",
            "Precision and F-score are ill-defined and being set to 0.0 in labels with no predicted samples. Use `zero_division` parameter to control this behavior.\n",
            "\n",
            "\u001b[32m[I 2021-08-12 04:38:51,496]\u001b[0m Trial 18 finished with value: 0.3613861386138614 and parameters: {'n_neighbours': 170}. Best is trial 5 with value: 0.33663366336633666.\u001b[0m\n",
            "\u001b[32m[I 2021-08-12 04:38:51,535]\u001b[0m Trial 19 finished with value: 0.3564356435643564 and parameters: {'n_neighbours': 36}. Best is trial 5 with value: 0.33663366336633666.\u001b[0m\n"
          ],
          "name": "stderr"
        }
      ]
    },
    {
      "cell_type": "markdown",
      "metadata": {
        "id": "PiVnaCB6cLND"
      },
      "source": [
        ""
      ]
    }
  ]
}